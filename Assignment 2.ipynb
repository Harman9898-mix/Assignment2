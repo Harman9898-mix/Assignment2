{
 "cells": [
  {
   "cell_type": "code",
   "execution_count": 6,
   "metadata": {},
   "outputs": [
    {
     "data": {
      "text/plain": [
       "'odwo'"
      ]
     },
     "execution_count": 6,
     "metadata": {},
     "output_type": "execute_result"
    }
   ],
   "source": [
    "#Q1. Discuss string slicing and provide examples?\n",
    "#Ans. Slicing of a string is extract the position of a string. For example [2:6] first letter(2) shows the starting and\n",
    "# and the second show(6) the ending. IT has also a negative number that start from ending like (-1:-4) -1 os show \n",
    "# the last character of tring and -4 shows the last 4th number in a string.\n",
    "string = (\"Goodwork\")\n",
    "string[2 : 6]"
   ]
  },
  {
   "cell_type": "code",
   "execution_count": 15,
   "metadata": {},
   "outputs": [
    {
     "data": {
      "text/plain": [
       "'omg'"
      ]
     },
     "execution_count": 15,
     "metadata": {},
     "output_type": "execute_result"
    }
   ],
   "source": [
    "#Q2. Explain the key feature of list in python?\n",
    "#Ans. A list is one of the most versatile and commonly used data structures. Here are some key features of lists:\n",
    "#  > Lists maintain the order of elements. This means that the items in a list have a defined sequence, and you can access them using their index.\n",
    "#  > Lists are mutable, meaning you can modify them after their creation. You can change elements, add new elements, or remove elements.\n",
    "#  > Lists can contain elements of different data types. This makes them flexible for storing a mix of items.\n",
    "#  > Lists support indexing and slicing. You can access individual elements or a range of elements.\n",
    "#  > List has a varities of buil in methods like Append, Remove, Pop, sort, Reverse, extend and so on.\n",
    "#  > List allowing more complex data structur.\n",
    "\n",
    "#Q3. Describe how the access, modify and delete elements in list with example? \n",
    "#Ans.  In Python, lists are versatile and allow you to access, modify, and delete elements with ease. Here’s a detailed explanation of each operation:\n",
    "# 1. Accessing Elements: You can access individual elements in a list using indexing. Python uses zero-based indexing, meaning the first element has an index of 0.\n",
    "movie = [\"hero\", \"omg\", \"don\", \"doom\", \"kalki\"]\n",
    "movie[1]\n"
   ]
  },
  {
   "cell_type": "code",
   "execution_count": 25,
   "metadata": {},
   "outputs": [
    {
     "name": "stdout",
     "output_type": "stream",
     "text": [
      "['hero', 'omg', 'lucy', 'doom', 'kalki']\n"
     ]
    }
   ],
   "source": [
    "# 2. Modifing element: we can modify elements in a list by accessing them through their index and then assigning a new value.\n",
    "movie = [\"hero\", \"omg\", \"don\", \"doom\", \"kalki\"]\n",
    "movie[2] = \"lucy\"\n",
    "print(movie)"
   ]
  },
  {
   "cell_type": "code",
   "execution_count": 26,
   "metadata": {},
   "outputs": [
    {
     "name": "stdout",
     "output_type": "stream",
     "text": [
      "['hero', 'omg', 'don', 'kalki']\n"
     ]
    }
   ],
   "source": [
    "# 3. Deleting element: wecan also delete elemnet from the list by using remove. For example\n",
    "movie = [\"hero\", \"omg\", \"don\", \"doom\", \"kalki\"]\n",
    "movie.remove(\"doom\")\n",
    "print(movie)"
   ]
  },
  {
   "cell_type": "code",
   "execution_count": 2,
   "metadata": {},
   "outputs": [
    {
     "name": "stdout",
     "output_type": "stream",
     "text": [
      "['hero', 'omg', 'don', 'doom', 'kalki']\n"
     ]
    }
   ],
   "source": [
    "#Q4. Compare and contrast tuples and list with example?\n",
    "#Ans. List: A mutable, ordered collection of elements. Lists are defined using square brackets [].[\"1\",\"dog\",\"banana\",\"car\"]\n",
    "#    Tuple: An immutable, ordered collection of elements. Tuples are defined using parentheses ().(\"1\",\"dog\",\"banana\",\"car\")\n",
    "# Performance:\n",
    "# List: Generally slower than tuples for operations due to their mutable nature, which requires additional overhead for managing changes.\n",
    "\n",
    "# Tuple: Faster than lists for iteration and access, as their immutability allows optimizations by Python.\n",
    "# Mutability:\n",
    "# List: Mutable. You can change its elements, add new elements, or remove elements after the list has been created.\n",
    "movie = [\"hero\", \"omg\", \"don\", \"doom\", \"kalki\"]\n",
    "del\n",
    "print(movie)"
   ]
  },
  {
   "cell_type": "code",
   "execution_count": 3,
   "metadata": {},
   "outputs": [
    {
     "data": {
      "text/plain": [
       "1"
      ]
     },
     "execution_count": 3,
     "metadata": {},
     "output_type": "execute_result"
    }
   ],
   "source": [
    "# Tuple: Immutable. Once created, you cannot modify its elements, add new elements, or remove elements.\n",
    "movie = (\"hero\", \"omg\", \"don\", \"doom\", \"kalki\")\n",
    "\n",
    "# Methods:\n",
    "# List: Supports a variety of methods for modifying its contents, such as append(), remove(), pop(), extend(), insert(), and more.\n",
    "my_list = [1, 2, 3]\n",
    "my_list.append(4)       \n",
    "my_list.insert(1, 5) \n",
    "# Tuple: Limited to only a few methods, such as count() and index(). Does not support methods that modify the tuple.\n",
    "\n",
    "my_tuple = (1, 2, 3, 1)\n",
    "my_tuple.count(1)  \n",
    "my_tuple.index(2)"
   ]
  },
  {
   "cell_type": "code",
   "execution_count": 4,
   "metadata": {},
   "outputs": [
    {
     "name": "stdout",
     "output_type": "stream",
     "text": [
      "{1, 2, 3, 4, 5}\n"
     ]
    }
   ],
   "source": [
    "#Q5. Describe the key features of set and and provide example of their use?\n",
    "#Ans. Sets in Python are a powerful data structure used to store unique, unordered collections of items. They have several key features and characteristics that distinguish them from other data structures like lists and tuples. Here’s a detailed overview of the key features of sets and some examples of their use:\n",
    "# @Unordered Collection: Sets do not maintain any order for their elements. The order in which elements are stored is not guaranteed and can change. For example:\n",
    "my_set={3, 4, 2, 5, 1}\n",
    "print(my_set)"
   ]
  },
  {
   "cell_type": "code",
   "execution_count": 5,
   "metadata": {},
   "outputs": [
    {
     "name": "stdout",
     "output_type": "stream",
     "text": [
      "{1, 2, 3, 4, 5}\n"
     ]
    }
   ],
   "source": [
    "# @Unique Elements: Sets automatically enforce uniqueness. Duplicate elements are not allowed, any duplicate values are removed when the set is created.\n",
    "my_set={3, 4, 2, 5, 1, 3}\n",
    "print(my_set)"
   ]
  },
  {
   "cell_type": "code",
   "execution_count": 7,
   "metadata": {},
   "outputs": [
    {
     "name": "stdout",
     "output_type": "stream",
     "text": [
      "{1, 3, 4}\n"
     ]
    }
   ],
   "source": [
    "# @Mutable: Sets are mutable, meaning you can add or remove elements after the set has been created. However, the elements themselves must be immutable. for example:\n",
    "my_set = {1, 2, 3}\n",
    "my_set.add(4)    # Adding an element\n",
    "my_set.remove(2) # Removing an element\n",
    "print(my_set) \n"
   ]
  },
  {
   "cell_type": "code",
   "execution_count": 2,
   "metadata": {},
   "outputs": [
    {
     "name": "stdout",
     "output_type": "stream",
     "text": [
      "frozenset({1, 2, 3, 4, 5, 6})\n"
     ]
    }
   ],
   "source": [
    "# @No indexing: Sets do not support indexing or slicing. You cannot access elements by position.\n",
    "# @Frozenset: A frozenset is an immutable version of a set. Once created, frozensets cannot be modified. They support the same set operations as sets but cannot be changed.\n",
    "frozen =frozenset([1,2,3,4,5,6])\n",
    "print(frozen)"
   ]
  },
  {
   "cell_type": "code",
   "execution_count": 2,
   "metadata": {},
   "outputs": [
    {
     "name": "stdout",
     "output_type": "stream",
     "text": [
      "(1, 9)\n"
     ]
    }
   ],
   "source": [
    "#Q6. Discus the use case of tuple and set in python programming?\n",
    "#Ans. Use case of tuples.\n",
    "#  Immutable Data Structures: Tuples are immutable, meaning once created, their contents cannot be changed. This makes them ideal for use cases where a constant, unchangeable collection of items is needed.\n",
    "#  Function Return Values: Tuples are often used to return multiple values from a function. This allows you to bundle several values together and return them in a single entity.\n",
    "def get_min_max(numbers):\n",
    "    return (min(numbers), max(numbers))\n",
    "\n",
    "result = get_min_max([3, 1, 4, 1, 5, 9])\n",
    "print(result)  "
   ]
  },
  {
   "cell_type": "code",
   "execution_count": 5,
   "metadata": {},
   "outputs": [
    {
     "name": "stdout",
     "output_type": "stream",
     "text": [
      "harman\n",
      "30\n",
      "doctor\n"
     ]
    }
   ],
   "source": [
    "# Packing and Unpacking: Tuples are used in Python for packing multiple values into a single variable and unpacking them back into individual variables.\n",
    "personal_info = (\"harman\", \"30\", \"doctor\")\n",
    "name, age, occupation = personal_info\n",
    "print(name)\n",
    "print(age)\n",
    "print(occupation)"
   ]
  },
  {
   "cell_type": "code",
   "execution_count": 6,
   "metadata": {},
   "outputs": [
    {
     "name": "stdout",
     "output_type": "stream",
     "text": [
      "{1, 2, 3, 4, 5}\n"
     ]
    }
   ],
   "source": [
    "# use case of sets:\n",
    "#  Removing Duplicates: Sets are inherently unique, so they are useful for removing duplicate elements from a list or other iterable.\n",
    "my_list=[1, 2, 4, 2, 3, 4, 1, 5]\n",
    "unique_list = set(my_list)\n",
    "print(unique_list)"
   ]
  },
  {
   "cell_type": "code",
   "execution_count": 10,
   "metadata": {},
   "outputs": [
    {
     "name": "stdout",
     "output_type": "stream",
     "text": [
      "{1, 2, 3, 4, 5, 6}\n",
      "{1, 4}\n",
      "{2, 5}\n",
      "{2, 3, 5, 6}\n"
     ]
    }
   ],
   "source": [
    "# Set Operations: Sets support mathematical set operations like union, intersection, difference, and symmetric difference. This makes them useful for tasks involving these operations.\n",
    "set1 = {2,1,4,5}\n",
    "set2 = {3,4,1,6}\n",
    "union = set1 | set2\n",
    "diffrence = set1 - set2\n",
    "intersection = set1 & set2\n",
    "symetric = set1^set2\n",
    "print(union)\n",
    "print(intersection)\n",
    "print(diffrence)\n",
    "print(symetric)\n"
   ]
  },
  {
   "cell_type": "code",
   "execution_count": 11,
   "metadata": {},
   "outputs": [
    {
     "name": "stdout",
     "output_type": "stream",
     "text": [
      "True\n",
      "False\n"
     ]
    }
   ],
   "source": [
    "# Membership Testing: Sets provide efficient membership testing. Checking whether an item is in a set is faster compared to lists, especially for large datasets.\n",
    "large_set = set(range(100000))\n",
    "print(98762 in large_set)\n",
    "print(123421 in large_set)"
   ]
  },
  {
   "cell_type": "code",
   "execution_count": 13,
   "metadata": {},
   "outputs": [
    {
     "name": "stdout",
     "output_type": "stream",
     "text": [
      "{'name': 'harman', 'age': '24', 'city': 'bathinda'}\n"
     ]
    }
   ],
   "source": [
    "#Q7. Describe how to add, modify and delete items in dictionary with examples?\n",
    "#Ans. >Add items to a dictionary by assigning a value to a new key. If the key does not exist, it will be created.\n",
    "my_dict = {\"name\": \"harman\", \"age\": \"24\"}\n",
    "my_dict[\"city\"] = \"bathinda\"\n",
    "print(my_dict)\n"
   ]
  },
  {
   "cell_type": "code",
   "execution_count": 14,
   "metadata": {},
   "outputs": [
    {
     "name": "stdout",
     "output_type": "stream",
     "text": [
      "{'name': 'harman', 'age': '25', 'city': 'bathinda'}\n"
     ]
    }
   ],
   "source": [
    "# >To modify an item in a dictionary, you assign a new value to an existing key.\n",
    "my_dict = {\"name\": \"harman\", \"age\": \"24\", \"city\": \"bathinda\"}\n",
    "my_dict[\"age\"]= \"25\"\n",
    "print(my_dict)"
   ]
  },
  {
   "cell_type": "code",
   "execution_count": 19,
   "metadata": {},
   "outputs": [
    {
     "name": "stdout",
     "output_type": "stream",
     "text": [
      "{'name': 'harman', 'age': '24'}\n"
     ]
    }
   ],
   "source": [
    "# >Delete items from a dictionary using several methods: del, pop(), and popitem().\n",
    "my_dict = {\"name\": \"harman\", \"age\": \"24\", \"city\": \"moosa\"}\n",
    "del my_dict[\"city\"]\n",
    "print(my_dict)\n"
   ]
  },
  {
   "cell_type": "code",
   "execution_count": 29,
   "metadata": {},
   "outputs": [
    {
     "name": "stdout",
     "output_type": "stream",
     "text": [
      "1\n"
     ]
    }
   ],
   "source": [
    "#Q8. Discus the importance of dictonary keys being imumtable and provide examples?\n",
    "#Ans.  Dictionary keys are required to be hashable. Hashability means that the object can be used as a key in a dictionary and can be looked up efficiently. An object is hashable if it has a hash value that remains constant during its lifetime. The hash value of an object is used by Python’s internal mechanisms to quickly locate the value associated with a key. If a key were mutable (i.e., if its value could change), its hash value could also change, leading to inconsistencies and errors in dictionary operations.\n",
    "my_dict= {('a'+'b'): 1}\n",
    "print(my_dict[('a'+'b')])"
   ]
  },
  {
   "cell_type": "code",
   "execution_count": null,
   "metadata": {},
   "outputs": [],
   "source": []
  }
 ],
 "metadata": {
  "kernelspec": {
   "display_name": "Python 3 (ipykernel)",
   "language": "python",
   "name": "python3"
  },
  "language_info": {
   "codemirror_mode": {
    "name": "ipython",
    "version": 3
   },
   "file_extension": ".py",
   "mimetype": "text/x-python",
   "name": "python",
   "nbconvert_exporter": "python",
   "pygments_lexer": "ipython3",
   "version": "3.10.8"
  }
 },
 "nbformat": 4,
 "nbformat_minor": 4
}
